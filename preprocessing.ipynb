{
 "cells": [
  {
   "cell_type": "code",
   "execution_count": 1,
   "metadata": {},
   "outputs": [],
   "source": [
    "%matplotlib inline\n",
    "import pandas as pd\n",
    "import numpy as np\n",
    "\n",
    "import warnings \n",
    "warnings.filterwarnings('ignore')"
   ]
  },
  {
   "cell_type": "code",
   "execution_count": 2,
   "metadata": {},
   "outputs": [],
   "source": [
    "# We drop all \"Disposition\" variables, as well as variables containing the names of each observation. For simplicity, we also drop\n",
    "# the variables containing the error of each measurement. We rely on the Exoplanet Archive Disposition data because it has more available data.\n",
    "\n",
    "planet_data = pd.read_csv('exoplanet_data.csv', skip_blank_lines=True)\n",
    "planet_data = planet_data[['Exoplanet Archive Disposition','Orbital Period [days]','Transit Epoch [BKJD]','Impact Parameter','Transit Duration [hrs]','Transit Depth [ppm]','Planetary Radius [Earth radii]', 'Equilibrium Temperature [K]', 'Insolation Flux [Earth flux]','Transit Signal-to-Noise','Stellar Effective Temperature [K]','Stellar Surface Gravity [log10(cm/s**2)]','Stellar Radius [Solar radii]','Dec [decimal degrees]', 'Kepler-band [mag]']]\n",
    "planet_data.to_csv('rev_exoplanet_data.csv')"
   ]
  },
  {
   "cell_type": "markdown",
   "metadata": {},
   "source": [
    "CONFIRMED DATA PREPROCESSING"
   ]
  },
  {
   "cell_type": "code",
   "execution_count": 12,
   "metadata": {},
   "outputs": [],
   "source": [
    "# conf_data contains observations that confirm or disprove the existence of a discovered exoplanet,\n",
    "# which we'll use to train our model.\n",
    "\n",
    "conf_data = pd.read_csv('exoplanet_data.csv')\n",
    "\n",
    "conf_data = conf_data[['KepID','Exoplanet Archive Disposition','Disposition Score','Orbital Period [days]','Transit Epoch [BKJD]','Impact Parameter','Transit Duration [hrs]','Transit Depth [ppm]','Planetary Radius [Earth radii]', 'Equilibrium Temperature [K]', 'Insolation Flux [Earth flux]','Transit Signal-to-Noise','Stellar Effective Temperature [K]','Stellar Surface Gravity [log10(cm/s**2)]','Stellar Radius [Solar radii]','Dec [decimal degrees]', 'Kepler-band [mag]']]\n",
    "conf_data = conf_data.drop(conf_data[conf_data['Exoplanet Archive Disposition'] == 'CANDIDATE'].index)\n",
    "conf_data.to_csv('conf_exoplanet_data.csv')"
   ]
  },
  {
   "cell_type": "markdown",
   "metadata": {},
   "source": [
    "CANDIDATE DATA PROCESSING"
   ]
  },
  {
   "cell_type": "code",
   "execution_count": 13,
   "metadata": {},
   "outputs": [],
   "source": [
    "# cand_data contains observations that only suggest existence of an exoplanet, which we'll use \n",
    "# to test our model.\n",
    "\n",
    "cand_data = pd.read_csv('exoplanet_data.csv')\n",
    "\n",
    "cand_data = cand_data[['KepID','Exoplanet Archive Disposition','Disposition Score','Orbital Period [days]','Transit Epoch [BKJD]','Impact Parameter','Transit Duration [hrs]','Transit Depth [ppm]','Planetary Radius [Earth radii]', 'Equilibrium Temperature [K]', 'Insolation Flux [Earth flux]','Transit Signal-to-Noise','Stellar Effective Temperature [K]','Stellar Surface Gravity [log10(cm/s**2)]','Stellar Radius [Solar radii]','Dec [decimal degrees]', 'Kepler-band [mag]']]\n",
    "cand_data = cand_data[cand_data['Exoplanet Archive Disposition'] == 'CANDIDATE']\n",
    "cand_data.to_csv('cand_exoplanet_data.csv')"
   ]
  }
 ],
 "metadata": {
  "kernelspec": {
   "display_name": "Python 3",
   "language": "python",
   "name": "python3"
  },
  "language_info": {
   "codemirror_mode": {
    "name": "ipython",
    "version": 3
   },
   "file_extension": ".py",
   "mimetype": "text/x-python",
   "name": "python",
   "nbconvert_exporter": "python",
   "pygments_lexer": "ipython3",
   "version": "3.11.9"
  }
 },
 "nbformat": 4,
 "nbformat_minor": 2
}
